{
  "cells": [
    {
      "cell_type": "markdown",
      "id": "5bb79755",
      "metadata": {
        "id": "5bb79755"
      },
      "source": [
        "# Personality Type Classification with Naïve Bayes\n",
        "\n",
        "A startup company on social media is looking for ideas to improve the user satisfaction on the products. Seen the rivalry and lack of founding, the startup wants to impress everyone by providing services in the future based on personality type of users.\n",
        "\n",
        "<img src = \"https://cdn.startupsavant.com/images/startup-culture/articles/social-media-guide-101-for-your-startup-and-top-resources.jpg\" alttext = \"social_media\" height = \"200\">\n",
        "\n",
        "**Motivation 🏃**\n",
        "\n",
        "The development team was asked to implement a classication system to classify the personality types of the users. Despite being unethical, the founder enforces the developers find a way to categorize its users into 16 categories using the Myers-Briggs Type indicator. As a kickoff, the company will focus on these four personality types: \n",
        "\n",
        "* Introversion, Intuition, Feeling, Perceiving (INFP)\n",
        "* Introversion, Intution, Feeling, Judging (INFJ)\n",
        "* Introversion, Intution, Thinking, Perceiving (INTP)\n",
        "* Introversion, Intuition, Thinking, Judging (INTJ)\n",
        "\n",
        "**Target 🎯**\n",
        "\n",
        "Train a machine learning model to classify personality types with Naive Bayes based with a prepared dataset including a paragraph and identified personality types."
      ]
    },
    {
      "cell_type": "markdown",
      "id": "4d9309e0",
      "metadata": {
        "id": "4d9309e0"
      },
      "source": [
        "# Importing libraires 🏇"
      ]
    },
    {
      "cell_type": "code",
      "execution_count": 73,
      "id": "54e247ab",
      "metadata": {
        "id": "54e247ab"
      },
      "outputs": [],
      "source": [
        "import pandas as pd\n",
        "import numpy as np\n",
        "\n",
        "#loading sklearn libs\n",
        "from sklearn.feature_extraction.text import CountVectorizer\n",
        "from sklearn.model_selection import train_test_split\n",
        "from sklearn.naive_bayes import MultinomialNB, ComplementNB\n",
        "from sklearn.metrics import ConfusionMatrixDisplay, classification_report\n",
        "\n",
        "#loading plotting libs\n",
        "import matplotlib.pyplot as plt\n",
        "import seaborn as sns"
      ]
    },
    {
      "cell_type": "markdown",
      "id": "b5dfef21",
      "metadata": {
        "id": "b5dfef21"
      },
      "source": [
        "## Loading data"
      ]
    },
    {
      "cell_type": "code",
      "execution_count": 74,
      "id": "5cffbcc6",
      "metadata": {
        "colab": {
          "base_uri": "https://localhost:8080/",
          "height": 206
        },
        "id": "5cffbcc6",
        "outputId": "81cfde84-dfed-45b4-bbd8-e8093e4da073"
      },
      "outputs": [
        {
          "output_type": "execute_result",
          "data": {
            "text/plain": [
              "  CLASS                                            CONTENT\n",
              "0  INFJ  'http://www.youtube.com/watch?v=qsXHcwe3krw|||...\n",
              "1  INTP  'Good one  _____   https://www.youtube.com/wat...\n",
              "2  INTJ  'Dear INTP,   I enjoyed our conversation the o...\n",
              "3  INTJ  '18/37 @.@|||Science  is not perfect. No scien...\n",
              "4  INFJ  'No, I can't draw on my own nails (haha). Thos..."
            ],
            "text/html": [
              "\n",
              "  <div id=\"df-cae9c188-23a4-4183-b337-05ab75192898\">\n",
              "    <div class=\"colab-df-container\">\n",
              "      <div>\n",
              "<style scoped>\n",
              "    .dataframe tbody tr th:only-of-type {\n",
              "        vertical-align: middle;\n",
              "    }\n",
              "\n",
              "    .dataframe tbody tr th {\n",
              "        vertical-align: top;\n",
              "    }\n",
              "\n",
              "    .dataframe thead th {\n",
              "        text-align: right;\n",
              "    }\n",
              "</style>\n",
              "<table border=\"1\" class=\"dataframe\">\n",
              "  <thead>\n",
              "    <tr style=\"text-align: right;\">\n",
              "      <th></th>\n",
              "      <th>CLASS</th>\n",
              "      <th>CONTENT</th>\n",
              "    </tr>\n",
              "  </thead>\n",
              "  <tbody>\n",
              "    <tr>\n",
              "      <th>0</th>\n",
              "      <td>INFJ</td>\n",
              "      <td>'http://www.youtube.com/watch?v=qsXHcwe3krw|||...</td>\n",
              "    </tr>\n",
              "    <tr>\n",
              "      <th>1</th>\n",
              "      <td>INTP</td>\n",
              "      <td>'Good one  _____   https://www.youtube.com/wat...</td>\n",
              "    </tr>\n",
              "    <tr>\n",
              "      <th>2</th>\n",
              "      <td>INTJ</td>\n",
              "      <td>'Dear INTP,   I enjoyed our conversation the o...</td>\n",
              "    </tr>\n",
              "    <tr>\n",
              "      <th>3</th>\n",
              "      <td>INTJ</td>\n",
              "      <td>'18/37 @.@|||Science  is not perfect. No scien...</td>\n",
              "    </tr>\n",
              "    <tr>\n",
              "      <th>4</th>\n",
              "      <td>INFJ</td>\n",
              "      <td>'No, I can't draw on my own nails (haha). Thos...</td>\n",
              "    </tr>\n",
              "  </tbody>\n",
              "</table>\n",
              "</div>\n",
              "      <button class=\"colab-df-convert\" onclick=\"convertToInteractive('df-cae9c188-23a4-4183-b337-05ab75192898')\"\n",
              "              title=\"Convert this dataframe to an interactive table.\"\n",
              "              style=\"display:none;\">\n",
              "        \n",
              "  <svg xmlns=\"http://www.w3.org/2000/svg\" height=\"24px\"viewBox=\"0 0 24 24\"\n",
              "       width=\"24px\">\n",
              "    <path d=\"M0 0h24v24H0V0z\" fill=\"none\"/>\n",
              "    <path d=\"M18.56 5.44l.94 2.06.94-2.06 2.06-.94-2.06-.94-.94-2.06-.94 2.06-2.06.94zm-11 1L8.5 8.5l.94-2.06 2.06-.94-2.06-.94L8.5 2.5l-.94 2.06-2.06.94zm10 10l.94 2.06.94-2.06 2.06-.94-2.06-.94-.94-2.06-.94 2.06-2.06.94z\"/><path d=\"M17.41 7.96l-1.37-1.37c-.4-.4-.92-.59-1.43-.59-.52 0-1.04.2-1.43.59L10.3 9.45l-7.72 7.72c-.78.78-.78 2.05 0 2.83L4 21.41c.39.39.9.59 1.41.59.51 0 1.02-.2 1.41-.59l7.78-7.78 2.81-2.81c.8-.78.8-2.07 0-2.86zM5.41 20L4 18.59l7.72-7.72 1.47 1.35L5.41 20z\"/>\n",
              "  </svg>\n",
              "      </button>\n",
              "      \n",
              "  <style>\n",
              "    .colab-df-container {\n",
              "      display:flex;\n",
              "      flex-wrap:wrap;\n",
              "      gap: 12px;\n",
              "    }\n",
              "\n",
              "    .colab-df-convert {\n",
              "      background-color: #E8F0FE;\n",
              "      border: none;\n",
              "      border-radius: 50%;\n",
              "      cursor: pointer;\n",
              "      display: none;\n",
              "      fill: #1967D2;\n",
              "      height: 32px;\n",
              "      padding: 0 0 0 0;\n",
              "      width: 32px;\n",
              "    }\n",
              "\n",
              "    .colab-df-convert:hover {\n",
              "      background-color: #E2EBFA;\n",
              "      box-shadow: 0px 1px 2px rgba(60, 64, 67, 0.3), 0px 1px 3px 1px rgba(60, 64, 67, 0.15);\n",
              "      fill: #174EA6;\n",
              "    }\n",
              "\n",
              "    [theme=dark] .colab-df-convert {\n",
              "      background-color: #3B4455;\n",
              "      fill: #D2E3FC;\n",
              "    }\n",
              "\n",
              "    [theme=dark] .colab-df-convert:hover {\n",
              "      background-color: #434B5C;\n",
              "      box-shadow: 0px 1px 3px 1px rgba(0, 0, 0, 0.15);\n",
              "      filter: drop-shadow(0px 1px 2px rgba(0, 0, 0, 0.3));\n",
              "      fill: #FFFFFF;\n",
              "    }\n",
              "  </style>\n",
              "\n",
              "      <script>\n",
              "        const buttonEl =\n",
              "          document.querySelector('#df-cae9c188-23a4-4183-b337-05ab75192898 button.colab-df-convert');\n",
              "        buttonEl.style.display =\n",
              "          google.colab.kernel.accessAllowed ? 'block' : 'none';\n",
              "\n",
              "        async function convertToInteractive(key) {\n",
              "          const element = document.querySelector('#df-cae9c188-23a4-4183-b337-05ab75192898');\n",
              "          const dataTable =\n",
              "            await google.colab.kernel.invokeFunction('convertToInteractive',\n",
              "                                                     [key], {});\n",
              "          if (!dataTable) return;\n",
              "\n",
              "          const docLinkHtml = 'Like what you see? Visit the ' +\n",
              "            '<a target=\"_blank\" href=https://colab.research.google.com/notebooks/data_table.ipynb>data table notebook</a>'\n",
              "            + ' to learn more about interactive tables.';\n",
              "          element.innerHTML = '';\n",
              "          dataTable['output_type'] = 'display_data';\n",
              "          await google.colab.output.renderOutput(dataTable, element);\n",
              "          const docLink = document.createElement('div');\n",
              "          docLink.innerHTML = docLinkHtml;\n",
              "          element.appendChild(docLink);\n",
              "        }\n",
              "      </script>\n",
              "    </div>\n",
              "  </div>\n",
              "  "
            ]
          },
          "metadata": {},
          "execution_count": 74
        }
      ],
      "source": [
        "db_v1 = 'https://drive.google.com/file/d/1fLYe8xLtPG-j6TZuZdYAabm67LRgLfXu/view?usp=share_link' #dataset with paragraphs + personality types\n",
        "\n",
        "#let's load the version 4 with all data\n",
        "fname1 = db_v1 \n",
        "fname1='https://drive.google.com/uc?id=' + fname1.split('/')[-2]\n",
        "\n",
        "df = pd.read_csv(fname1, encoding = \"ISO-8859-1\")\n",
        "df.head()"
      ]
    },
    {
      "cell_type": "code",
      "execution_count": 75,
      "id": "8760908d",
      "metadata": {
        "scrolled": true,
        "colab": {
          "base_uri": "https://localhost:8080/"
        },
        "id": "8760908d",
        "outputId": "44fbe02e-ba03-4220-80cf-ce3094ad85e2"
      },
      "outputs": [
        {
          "output_type": "execute_result",
          "data": {
            "text/plain": [
              "INFP    1832\n",
              "INFJ    1470\n",
              "INTP    1304\n",
              "INTJ    1091\n",
              "Name: CLASS, dtype: int64"
            ]
          },
          "metadata": {},
          "execution_count": 75
        }
      ],
      "source": [
        "df['CLASS'].value_counts()"
      ]
    },
    {
      "cell_type": "markdown",
      "source": [
        "## PREPROCESSING 🎣"
      ],
      "metadata": {
        "id": "w9EG1rN-7pai"
      },
      "id": "w9EG1rN-7pai"
    },
    {
      "cell_type": "markdown",
      "source": [
        "**Splitting Train and Test**"
      ],
      "metadata": {
        "id": "5NYi0K5592K6"
      },
      "id": "5NYi0K5592K6"
    },
    {
      "cell_type": "code",
      "source": [
        "#selection of inputs and target\n",
        "X = df['CONTENT']\n",
        "Y = df['CLASS']"
      ],
      "metadata": {
        "id": "zYaodb-Z9LSh"
      },
      "execution_count": 76,
      "outputs": [],
      "id": "zYaodb-Z9LSh"
    },
    {
      "cell_type": "code",
      "source": [
        "Y.value_counts()"
      ],
      "metadata": {
        "colab": {
          "base_uri": "https://localhost:8080/"
        },
        "id": "LEHwRTpv-lgR",
        "outputId": "506cb137-e391-45ca-e2eb-d3a2c2a28788"
      },
      "execution_count": 77,
      "outputs": [
        {
          "output_type": "execute_result",
          "data": {
            "text/plain": [
              "INFP    1832\n",
              "INFJ    1470\n",
              "INTP    1304\n",
              "INTJ    1091\n",
              "Name: CLASS, dtype: int64"
            ]
          },
          "metadata": {},
          "execution_count": 77
        }
      ],
      "id": "LEHwRTpv-lgR"
    },
    {
      "cell_type": "code",
      "source": [
        "#splitting arrays into train and test\n",
        "X_train, X_test, Y_train, Y_test = train_test_split(X, Y, \n",
        "                                                    test_size= 0.2, \n",
        "                                                    random_state = 7,\n",
        "                                                    stratify = Y)"
      ],
      "metadata": {
        "id": "aY-HwmVZ9LHj"
      },
      "execution_count": 78,
      "outputs": [],
      "id": "aY-HwmVZ9LHj"
    },
    {
      "cell_type": "code",
      "source": [
        "print('Train\\n',Y_train.value_counts(),'\\n\\nTest\\n',Y_test.value_counts())"
      ],
      "metadata": {
        "colab": {
          "base_uri": "https://localhost:8080/"
        },
        "id": "XbMHVc7x-ncM",
        "outputId": "5df9f7d1-a712-45be-a277-b5e17bdb0738"
      },
      "execution_count": 81,
      "outputs": [
        {
          "output_type": "stream",
          "name": "stdout",
          "text": [
            "Train\n",
            " INFP    1465\n",
            "INFJ    1176\n",
            "INTP    1043\n",
            "INTJ     873\n",
            "Name: CLASS, dtype: int64 \n",
            "\n",
            "Test\n",
            " INFP    367\n",
            "INFJ    294\n",
            "INTP    261\n",
            "INTJ    218\n",
            "Name: CLASS, dtype: int64\n"
          ]
        }
      ],
      "id": "XbMHVc7x-ncM"
    },
    {
      "cell_type": "markdown",
      "source": [
        "**Vectorizer - Tokenizing comments**"
      ],
      "metadata": {
        "id": "v7HGmlg299V-"
      },
      "id": "v7HGmlg299V-"
    },
    {
      "cell_type": "code",
      "source": [
        "#tokenizing the words in the comments after splitting.\n",
        "#so that the comments in train set are not learnt by tokenizer.\n",
        "vectorizer = CountVectorizer()"
      ],
      "metadata": {
        "id": "XLGx5ey0979A"
      },
      "execution_count": 82,
      "outputs": [],
      "id": "XLGx5ey0979A"
    },
    {
      "cell_type": "code",
      "source": [
        "#fitting + transforming X_train\n",
        "#transforming X_test\n",
        "X_train_tf = vectorizer.fit_transform(X_train)\n",
        "X_test_tf = vectorizer.transform(X_test)"
      ],
      "metadata": {
        "id": "oR7V3cKq9nIO"
      },
      "execution_count": 83,
      "outputs": [],
      "id": "oR7V3cKq9nIO"
    },
    {
      "cell_type": "code",
      "source": [
        "X_train_tf.shape"
      ],
      "metadata": {
        "colab": {
          "base_uri": "https://localhost:8080/"
        },
        "id": "4mulOI1X9nEP",
        "outputId": "ad9f6392-6bd5-46e4-ff40-2f92e32d0e4a"
      },
      "execution_count": 84,
      "outputs": [
        {
          "output_type": "execute_result",
          "data": {
            "text/plain": [
              "(4557, 98991)"
            ]
          },
          "metadata": {},
          "execution_count": 84
        }
      ],
      "id": "4mulOI1X9nEP"
    },
    {
      "cell_type": "markdown",
      "source": [
        "#Naive Bayes classifier\n",
        "\n",
        "We have a variety of classifiers  \n",
        "\n",
        "Two models below are best suited for text classification. Imblanced dataset are better handled.  \n",
        "1 - *Multinomial*  \n",
        "2 - *Complement*  "
      ],
      "metadata": {
        "id": "60RfcANp_Sbd"
      },
      "id": "60RfcANp_Sbd"
    },
    {
      "cell_type": "markdown",
      "source": [
        "##**Model 1-Defining MultinomialNB**"
      ],
      "metadata": {
        "id": "-uYVce_BBoSE"
      },
      "id": "-uYVce_BBoSE"
    },
    {
      "cell_type": "code",
      "source": [
        "#first let's use multinominal NB\n",
        "clf = MultinomialNB()"
      ],
      "metadata": {
        "id": "N92KiMi99m-i"
      },
      "execution_count": 85,
      "outputs": [],
      "id": "N92KiMi99m-i"
    },
    {
      "cell_type": "code",
      "source": [
        "clf.fit(X_train_tf, Y_train)"
      ],
      "metadata": {
        "colab": {
          "base_uri": "https://localhost:8080/"
        },
        "id": "OFsMrskG9m52",
        "outputId": "d3926cb1-20ef-44de-a538-b746f3b0f036"
      },
      "execution_count": 86,
      "outputs": [
        {
          "output_type": "execute_result",
          "data": {
            "text/plain": [
              "MultinomialNB()"
            ]
          },
          "metadata": {},
          "execution_count": 86
        }
      ],
      "id": "OFsMrskG9m52"
    },
    {
      "cell_type": "code",
      "source": [
        "#alpha: smoothing parameters\n",
        "#class_prior: specific values for prior probabilities\n",
        "#fit_prior: boolean, priors are uniform by default.\n",
        "clf.get_params()"
      ],
      "metadata": {
        "colab": {
          "base_uri": "https://localhost:8080/"
        },
        "id": "peOKl-8Q9m1j",
        "outputId": "fa4790af-db7b-4c0d-a27a-75bcc0fa8095"
      },
      "execution_count": 87,
      "outputs": [
        {
          "output_type": "execute_result",
          "data": {
            "text/plain": [
              "{'alpha': 1.0, 'class_prior': None, 'fit_prior': True}"
            ]
          },
          "metadata": {},
          "execution_count": 87
        }
      ],
      "id": "peOKl-8Q9m1j"
    },
    {
      "cell_type": "code",
      "source": [
        "#predicting test data\n",
        "Y_test_pred = clf.predict(X_test_tf)"
      ],
      "metadata": {
        "id": "Ps9o9sW3CgLH"
      },
      "execution_count": 88,
      "outputs": [],
      "id": "Ps9o9sW3CgLH"
    },
    {
      "cell_type": "code",
      "source": [
        "sns.reset_orig()\n",
        "\n",
        "ConfusionMatrixDisplay.from_predictions(\n",
        "    Y_test, Y_test_pred,\n",
        "    labels = clf.classes_,\n",
        "    cmap= 'inferno'\n",
        ")"
      ],
      "metadata": {
        "colab": {
          "base_uri": "https://localhost:8080/",
          "height": 296
        },
        "id": "UvNhXV1sCuHm",
        "outputId": "b12802f1-ed2e-43a8-cbb5-647f412aa6be"
      },
      "execution_count": 89,
      "outputs": [
        {
          "output_type": "execute_result",
          "data": {
            "text/plain": [
              "<sklearn.metrics._plot.confusion_matrix.ConfusionMatrixDisplay at 0x7fcadd792850>"
            ]
          },
          "metadata": {},
          "execution_count": 89
        },
        {
          "output_type": "display_data",
          "data": {
            "text/plain": [
              "<Figure size 432x288 with 2 Axes>"
            ],
            "image/png": "[encoded data removed]"
          },
          "metadata": {
            "needs_background": "light"
          }
        }
      ],
      "id": "UvNhXV1sCuHm"
    },
    {
      "cell_type": "code",
      "source": [
        "#Let's check other metrics\n",
        "print(classification_report(Y_test, Y_test_pred, target_names = ['INFJ','INFP','INTJ','INTP']))\n"
      ],
      "metadata": {
        "colab": {
          "base_uri": "https://localhost:8080/"
        },
        "id": "y_mpP2xjFC-B",
        "outputId": "923c8fef-9d59-41b6-8ec1-660293004dc9"
      },
      "execution_count": 90,
      "outputs": [
        {
          "output_type": "stream",
          "name": "stdout",
          "text": [
            "              precision    recall  f1-score   support\n",
            "\n",
            "        INFJ       0.62      0.54      0.58       294\n",
            "        INFP       0.54      0.87      0.67       367\n",
            "        INTJ       0.89      0.23      0.37       218\n",
            "        INTP       0.61      0.57      0.59       261\n",
            "\n",
            "    accuracy                           0.59      1140\n",
            "   macro avg       0.67      0.55      0.55      1140\n",
            "weighted avg       0.65      0.59      0.57      1140\n",
            "\n"
          ]
        }
      ],
      "id": "y_mpP2xjFC-B"
    },
    {
      "cell_type": "markdown",
      "source": [
        "**Predictions**"
      ],
      "metadata": {
        "id": "kQoW9pl8s22F"
      },
      "id": "kQoW9pl8s22F"
    },
    {
      "cell_type": "code",
      "source": [
        "X_test0 = [\"Such feelings are not surprising, you are allowed to be crossed.\"]\n",
        "X_test0_tf = vectorizer.transform(X_test0)\n",
        "#predicting test data\n",
        "clf.predict(X_test0_tf)"
      ],
      "metadata": {
        "id": "aiAPghCJUJhy",
        "colab": {
          "base_uri": "https://localhost:8080/"
        },
        "outputId": "72c172b2-f2f2-46f9-ca8a-6afc1614cfd0"
      },
      "execution_count": 91,
      "outputs": [
        {
          "output_type": "execute_result",
          "data": {
            "text/plain": [
              "array(['INFJ'], dtype='<U4')"
            ]
          },
          "metadata": {},
          "execution_count": 91
        }
      ],
      "id": "aiAPghCJUJhy"
    },
    {
      "cell_type": "markdown",
      "source": [
        "##**Model 2-Defining ComplementNB**"
      ],
      "metadata": {
        "id": "e9sYq2CAtF6H"
      },
      "id": "e9sYq2CAtF6H"
    },
    {
      "cell_type": "code",
      "source": [
        "#first let's use multinominal NB\n",
        "clf2 = ComplementNB()"
      ],
      "metadata": {
        "id": "Xomod0RjtF6I"
      },
      "execution_count": 92,
      "outputs": [],
      "id": "Xomod0RjtF6I"
    },
    {
      "cell_type": "code",
      "source": [
        "clf2.fit(X_train_tf, Y_train)"
      ],
      "metadata": {
        "colab": {
          "base_uri": "https://localhost:8080/"
        },
        "outputId": "6031cc81-69b5-4228-8e02-8fd8057a5778",
        "id": "yXzTGHRAtF6I"
      },
      "execution_count": 93,
      "outputs": [
        {
          "output_type": "execute_result",
          "data": {
            "text/plain": [
              "ComplementNB()"
            ]
          },
          "metadata": {},
          "execution_count": 93
        }
      ],
      "id": "yXzTGHRAtF6I"
    },
    {
      "cell_type": "code",
      "source": [
        "#alpha: smoothing parameters\n",
        "#class_prior: specific values for prior probabilities\n",
        "#fit_prior: boolean, priors are uniform by default.\n",
        "clf2.get_params()"
      ],
      "metadata": {
        "colab": {
          "base_uri": "https://localhost:8080/"
        },
        "outputId": "a9740eac-f482-4768-9121-41b62933e583",
        "id": "9ds-Kd8atF6J"
      },
      "execution_count": 94,
      "outputs": [
        {
          "output_type": "execute_result",
          "data": {
            "text/plain": [
              "{'alpha': 1.0, 'class_prior': None, 'fit_prior': True, 'norm': False}"
            ]
          },
          "metadata": {},
          "execution_count": 94
        }
      ],
      "id": "9ds-Kd8atF6J"
    },
    {
      "cell_type": "code",
      "source": [
        "#predicting test data\n",
        "Y_test_pred = clf2.predict(X_test_tf)"
      ],
      "metadata": {
        "id": "PLnwYjxStF6J"
      },
      "execution_count": 95,
      "outputs": [],
      "id": "PLnwYjxStF6J"
    },
    {
      "cell_type": "code",
      "source": [
        "sns.reset_orig()\n",
        "\n",
        "ConfusionMatrixDisplay.from_predictions(\n",
        "    Y_test, Y_test_pred,\n",
        "    labels = clf.classes_,\n",
        "    cmap= 'inferno'\n",
        ")"
      ],
      "metadata": {
        "colab": {
          "base_uri": "https://localhost:8080/",
          "height": 296
        },
        "outputId": "41e3ca0a-c726-455a-e63d-536678c0a1b6",
        "id": "Uue3mmrOtF6K"
      },
      "execution_count": 96,
      "outputs": [
        {
          "output_type": "execute_result",
          "data": {
            "text/plain": [
              "<sklearn.metrics._plot.confusion_matrix.ConfusionMatrixDisplay at 0x7fcadd91b390>"
            ]
          },
          "metadata": {},
          "execution_count": 96
        },
        {
          "output_type": "display_data",
          "data": {
            "text/plain": [
              "<Figure size 432x288 with 2 Axes>"
            ],
            "image/png": "[encoded data removed]"
          },
          "metadata": {
            "needs_background": "light"
          }
        }
      ],
      "id": "Uue3mmrOtF6K"
    },
    {
      "cell_type": "code",
      "source": [
        "#Let's check other metrics\n",
        "print(classification_report(Y_test, Y_test_pred, target_names = ['INFJ','INFP','INTJ','INTP']))\n"
      ],
      "metadata": {
        "colab": {
          "base_uri": "https://localhost:8080/"
        },
        "outputId": "3e5389d7-d6c2-4519-9387-01a4b5a1b85f",
        "id": "EU4JIhRitF6L"
      },
      "execution_count": 97,
      "outputs": [
        {
          "output_type": "stream",
          "name": "stdout",
          "text": [
            "              precision    recall  f1-score   support\n",
            "\n",
            "        INFJ       0.75      0.58      0.65       294\n",
            "        INFP       0.64      0.86      0.73       367\n",
            "        INTJ       0.81      0.50      0.62       218\n",
            "        INTP       0.66      0.71      0.68       261\n",
            "\n",
            "    accuracy                           0.69      1140\n",
            "   macro avg       0.71      0.66      0.67      1140\n",
            "weighted avg       0.70      0.69      0.68      1140\n",
            "\n"
          ]
        }
      ],
      "id": "EU4JIhRitF6L"
    },
    {
      "cell_type": "markdown",
      "source": [
        "**Predictions**"
      ],
      "metadata": {
        "id": "wJlDOQjTtF6M"
      },
      "id": "wJlDOQjTtF6M"
    },
    {
      "cell_type": "code",
      "source": [
        "X_test0 = [\"Such feelings are not surprising, you are allowed to be crossed.\"]\n",
        "X_test0_tf = vectorizer.transform(X_test0)\n",
        "#predicting test data\n",
        "clf2.predict(X_test0_tf)"
      ],
      "metadata": {
        "colab": {
          "base_uri": "https://localhost:8080/"
        },
        "id": "ub_9t-PMtF6M",
        "outputId": "58181b46-e9fa-41f8-cd64-d356b2868802"
      },
      "execution_count": 98,
      "outputs": [
        {
          "output_type": "execute_result",
          "data": {
            "text/plain": [
              "array(['INFJ'], dtype='<U4')"
            ]
          },
          "metadata": {},
          "execution_count": 98
        }
      ],
      "id": "ub_9t-PMtF6M"
    },
    {
      "cell_type": "markdown",
      "source": [
        "#Results and Conclusion\n",
        "\n",
        "In a social-media startup company, the team needed to implement a classication system to classify the personality types of the users. Two Naive Bates models (Model 1 - Multinominal and Model 2 - Complement) were trained to classify following four personality types for a given text:\n",
        "\n",
        "* Introversion, Intuition, Feeling, Perceiving (INFP)\n",
        "* Introversion, Intution, Feeling, Judging (INFJ)\n",
        "* Introversion, Intution, Thinking, Perceiving (INTP)\n",
        "* Introversion, Intuition, Thinking, Judging (INTJ)\n",
        "\n",
        "\n",
        "We can observe the followings: \n",
        "1 - The accuracy of Model 2 is higher than the accuracy of Model 1. \n",
        "\n",
        "2 - The recall value in Model 2  has increased compared to the Model 1.\n",
        "\n",
        "3 - F1 scores in Model 2 are greater than F1 scores in Model 1.\n",
        "\n",
        "**We can conclude that Model 2 - Complement Navie Bayes Classification works better in classificaiton of personality types given a paragraph text.** \n"
      ],
      "metadata": {
        "id": "GAcBV1Det0M4"
      },
      "id": "GAcBV1Det0M4"
    },
    {
      "cell_type": "markdown",
      "source": [
        "--- End of NoteBook ---\n",
        "#END"
      ],
      "metadata": {
        "id": "Gqb-yglqwBGK"
      },
      "id": "Gqb-yglqwBGK"
    }
  ],
  "metadata": {
    "kernelspec": {
      "display_name": "Python 3 (ipykernel)",
      "language": "python",
      "name": "python3"
    },
    "language_info": {
      "codemirror_mode": {
        "name": "ipython",
        "version": 3
      },
      "file_extension": ".py",
      "mimetype": "text/x-python",
      "name": "python",
      "nbconvert_exporter": "python",
      "pygments_lexer": "ipython3",
      "version": "3.8.8"
    },
    "colab": {
      "provenance": []
    }
  },
  "nbformat": 4,
  "nbformat_minor": 5
}